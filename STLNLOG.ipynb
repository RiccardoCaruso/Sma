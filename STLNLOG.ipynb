{
 "cells": [
  {
   "cell_type": "code",
   "execution_count": 1,
   "id": "75dc7d8f-8ad0-4696-ae56-8a8c6d120ee9",
   "metadata": {},
   "outputs": [],
   "source": [
    "#Logistic Regression to Predict Market Direction"
   ]
  },
  {
   "cell_type": "code",
   "execution_count": null,
   "id": "ef080571-2d62-4354-9e97-9cac56463f42",
   "metadata": {},
   "outputs": [],
   "source": []
  },
  {
   "cell_type": "code",
   "execution_count": 2,
   "id": "0f747c8b-a097-4e82-b990-a0d5c2281fdd",
   "metadata": {},
   "outputs": [
    {
     "name": "stderr",
     "output_type": "stream",
     "text": [
      "2024-05-06 15:24:23.357591: I tensorflow/core/platform/cpu_feature_guard.cc:210] This TensorFlow binary is optimized to use available CPU instructions in performance-critical operations.\n",
      "To enable the following instructions: AVX2 FMA, in other operations, rebuild TensorFlow with the appropriate compiler flags.\n"
     ]
    }
   ],
   "source": [
    "import numpy as np\n",
    "import pandas as pd\n",
    "import yfinance as yf\n",
    "import tensorflow as tf\n",
    "from keras.models import Sequential\n",
    "from keras.layers import Dense\n",
    "from keras.optimizers import Adam, RMSprop"
   ]
  },
  {
   "cell_type": "code",
   "execution_count": 3,
   "id": "d12bbfbd-a605-4cfe-8ce9-2706fa775175",
   "metadata": {},
   "outputs": [],
   "source": [
    "ticker = 'STLAM.MI'\n",
    "stock = yf.Ticker(ticker)\n",
    "hist_data = stock.history(period='10y')"
   ]
  },
  {
   "cell_type": "code",
   "execution_count": 4,
   "id": "4c731e3a-cef8-4088-9a0a-71ac41840555",
   "metadata": {},
   "outputs": [
    {
     "data": {
      "text/html": [
       "<div>\n",
       "<style scoped>\n",
       "    .dataframe tbody tr th:only-of-type {\n",
       "        vertical-align: middle;\n",
       "    }\n",
       "\n",
       "    .dataframe tbody tr th {\n",
       "        vertical-align: top;\n",
       "    }\n",
       "\n",
       "    .dataframe thead th {\n",
       "        text-align: right;\n",
       "    }\n",
       "</style>\n",
       "<table border=\"1\" class=\"dataframe\">\n",
       "  <thead>\n",
       "    <tr style=\"text-align: right;\">\n",
       "      <th></th>\n",
       "      <th>Close</th>\n",
       "    </tr>\n",
       "    <tr>\n",
       "      <th>Date</th>\n",
       "      <th></th>\n",
       "    </tr>\n",
       "  </thead>\n",
       "  <tbody>\n",
       "    <tr>\n",
       "      <th>2014-05-06 00:00:00+02:00</th>\n",
       "      <td>3.056782</td>\n",
       "    </tr>\n",
       "    <tr>\n",
       "      <th>2014-05-07 00:00:00+02:00</th>\n",
       "      <td>2.699495</td>\n",
       "    </tr>\n",
       "    <tr>\n",
       "      <th>2014-05-08 00:00:00+02:00</th>\n",
       "      <td>2.685060</td>\n",
       "    </tr>\n",
       "    <tr>\n",
       "      <th>2014-05-09 00:00:00+02:00</th>\n",
       "      <td>2.717540</td>\n",
       "    </tr>\n",
       "    <tr>\n",
       "      <th>2014-05-12 00:00:00+02:00</th>\n",
       "      <td>2.694082</td>\n",
       "    </tr>\n",
       "    <tr>\n",
       "      <th>...</th>\n",
       "      <td>...</td>\n",
       "    </tr>\n",
       "    <tr>\n",
       "      <th>2024-04-29 00:00:00+02:00</th>\n",
       "      <td>23.225000</td>\n",
       "    </tr>\n",
       "    <tr>\n",
       "      <th>2024-04-30 00:00:00+02:00</th>\n",
       "      <td>20.879999</td>\n",
       "    </tr>\n",
       "    <tr>\n",
       "      <th>2024-05-02 00:00:00+02:00</th>\n",
       "      <td>19.980000</td>\n",
       "    </tr>\n",
       "    <tr>\n",
       "      <th>2024-05-03 00:00:00+02:00</th>\n",
       "      <td>20.330000</td>\n",
       "    </tr>\n",
       "    <tr>\n",
       "      <th>2024-05-06 00:00:00+02:00</th>\n",
       "      <td>20.219999</td>\n",
       "    </tr>\n",
       "  </tbody>\n",
       "</table>\n",
       "<p>2544 rows × 1 columns</p>\n",
       "</div>"
      ],
      "text/plain": [
       "                               Close\n",
       "Date                                \n",
       "2014-05-06 00:00:00+02:00   3.056782\n",
       "2014-05-07 00:00:00+02:00   2.699495\n",
       "2014-05-08 00:00:00+02:00   2.685060\n",
       "2014-05-09 00:00:00+02:00   2.717540\n",
       "2014-05-12 00:00:00+02:00   2.694082\n",
       "...                              ...\n",
       "2024-04-29 00:00:00+02:00  23.225000\n",
       "2024-04-30 00:00:00+02:00  20.879999\n",
       "2024-05-02 00:00:00+02:00  19.980000\n",
       "2024-05-03 00:00:00+02:00  20.330000\n",
       "2024-05-06 00:00:00+02:00  20.219999\n",
       "\n",
       "[2544 rows x 1 columns]"
      ]
     },
     "execution_count": 4,
     "metadata": {},
     "output_type": "execute_result"
    }
   ],
   "source": [
    "STLN=pd.DataFrame(hist_data['Close'])\n",
    "STLN"
   ]
  },
  {
   "cell_type": "code",
   "execution_count": 5,
   "id": "f1240217-37a5-4386-8f98-896ebd82f937",
   "metadata": {},
   "outputs": [],
   "source": [
    "STLN.rename(columns={'Close':'Price'}, inplace=True)"
   ]
  },
  {
   "cell_type": "code",
   "execution_count": 6,
   "id": "209a4d37-3364-450e-a585-bba7f29dfdfa",
   "metadata": {},
   "outputs": [
    {
     "data": {
      "text/html": [
       "<div>\n",
       "<style scoped>\n",
       "    .dataframe tbody tr th:only-of-type {\n",
       "        vertical-align: middle;\n",
       "    }\n",
       "\n",
       "    .dataframe tbody tr th {\n",
       "        vertical-align: top;\n",
       "    }\n",
       "\n",
       "    .dataframe thead th {\n",
       "        text-align: right;\n",
       "    }\n",
       "</style>\n",
       "<table border=\"1\" class=\"dataframe\">\n",
       "  <thead>\n",
       "    <tr style=\"text-align: right;\">\n",
       "      <th></th>\n",
       "      <th>Price</th>\n",
       "      <th>return</th>\n",
       "    </tr>\n",
       "    <tr>\n",
       "      <th>Date</th>\n",
       "      <th></th>\n",
       "      <th></th>\n",
       "    </tr>\n",
       "  </thead>\n",
       "  <tbody>\n",
       "    <tr>\n",
       "      <th>2014-05-06 00:00:00+02:00</th>\n",
       "      <td>3.056782</td>\n",
       "      <td>NaN</td>\n",
       "    </tr>\n",
       "    <tr>\n",
       "      <th>2014-05-07 00:00:00+02:00</th>\n",
       "      <td>2.699495</td>\n",
       "      <td>-0.124298</td>\n",
       "    </tr>\n",
       "    <tr>\n",
       "      <th>2014-05-08 00:00:00+02:00</th>\n",
       "      <td>2.685060</td>\n",
       "      <td>-0.005362</td>\n",
       "    </tr>\n",
       "    <tr>\n",
       "      <th>2014-05-09 00:00:00+02:00</th>\n",
       "      <td>2.717540</td>\n",
       "      <td>0.012024</td>\n",
       "    </tr>\n",
       "    <tr>\n",
       "      <th>2014-05-12 00:00:00+02:00</th>\n",
       "      <td>2.694082</td>\n",
       "      <td>-0.008669</td>\n",
       "    </tr>\n",
       "    <tr>\n",
       "      <th>...</th>\n",
       "      <td>...</td>\n",
       "      <td>...</td>\n",
       "    </tr>\n",
       "    <tr>\n",
       "      <th>2024-04-29 00:00:00+02:00</th>\n",
       "      <td>23.225000</td>\n",
       "      <td>0.007780</td>\n",
       "    </tr>\n",
       "    <tr>\n",
       "      <th>2024-04-30 00:00:00+02:00</th>\n",
       "      <td>20.879999</td>\n",
       "      <td>-0.106438</td>\n",
       "    </tr>\n",
       "    <tr>\n",
       "      <th>2024-05-02 00:00:00+02:00</th>\n",
       "      <td>19.980000</td>\n",
       "      <td>-0.044060</td>\n",
       "    </tr>\n",
       "    <tr>\n",
       "      <th>2024-05-03 00:00:00+02:00</th>\n",
       "      <td>20.330000</td>\n",
       "      <td>0.017366</td>\n",
       "    </tr>\n",
       "    <tr>\n",
       "      <th>2024-05-06 00:00:00+02:00</th>\n",
       "      <td>20.219999</td>\n",
       "      <td>-0.005425</td>\n",
       "    </tr>\n",
       "  </tbody>\n",
       "</table>\n",
       "<p>2544 rows × 2 columns</p>\n",
       "</div>"
      ],
      "text/plain": [
       "                               Price    return\n",
       "Date                                          \n",
       "2014-05-06 00:00:00+02:00   3.056782       NaN\n",
       "2014-05-07 00:00:00+02:00   2.699495 -0.124298\n",
       "2014-05-08 00:00:00+02:00   2.685060 -0.005362\n",
       "2014-05-09 00:00:00+02:00   2.717540  0.012024\n",
       "2014-05-12 00:00:00+02:00   2.694082 -0.008669\n",
       "...                              ...       ...\n",
       "2024-04-29 00:00:00+02:00  23.225000  0.007780\n",
       "2024-04-30 00:00:00+02:00  20.879999 -0.106438\n",
       "2024-05-02 00:00:00+02:00  19.980000 -0.044060\n",
       "2024-05-03 00:00:00+02:00  20.330000  0.017366\n",
       "2024-05-06 00:00:00+02:00  20.219999 -0.005425\n",
       "\n",
       "[2544 rows x 2 columns]"
      ]
     },
     "execution_count": 6,
     "metadata": {},
     "output_type": "execute_result"
    }
   ],
   "source": [
    "STLN['return']=np.log(STLN['Price'] / STLN['Price'].shift(1))\n",
    "lags=7\n",
    "STLN"
   ]
  },
  {
   "cell_type": "code",
   "execution_count": null,
   "id": "d028e164-d4c4-4a6d-bacb-e71b0577467f",
   "metadata": {},
   "outputs": [],
   "source": []
  },
  {
   "cell_type": "code",
   "execution_count": 7,
   "id": "3754e64a-3f35-4afd-ad75-b49761d3d85b",
   "metadata": {},
   "outputs": [],
   "source": [
    "cols = []\n",
    "for lag in range(1, lags + 1):\n",
    "    col = 'lag_{}'.format(lag)\n",
    "    STLN[col] = STLN['return'].shift(lag)\n",
    "    cols.append(col)"
   ]
  },
  {
   "cell_type": "code",
   "execution_count": 8,
   "id": "6662d6e4-e1be-4499-8281-20acc236bcc1",
   "metadata": {},
   "outputs": [],
   "source": [
    "STLN.dropna(inplace=True)"
   ]
  },
  {
   "cell_type": "code",
   "execution_count": 9,
   "id": "c2291be3-b8d5-405b-aa29-3c5065318c9a",
   "metadata": {},
   "outputs": [],
   "source": [
    "from sklearn.metrics import accuracy_score"
   ]
  },
  {
   "cell_type": "code",
   "execution_count": 10,
   "id": "e6e8366e-f5e0-42b4-8733-a604ea9d3efa",
   "metadata": {},
   "outputs": [],
   "source": [
    "from sklearn import linear_model"
   ]
  },
  {
   "cell_type": "code",
   "execution_count": 11,
   "id": "1a60f15a-4bad-4227-b7b2-3c354a2778af",
   "metadata": {},
   "outputs": [],
   "source": [
    "lm = linear_model.LogisticRegression(C=1e7, solver='lbfgs',\n",
    "                                              multi_class='auto',\n",
    "                                              max_iter=1000)"
   ]
  },
  {
   "cell_type": "code",
   "execution_count": 12,
   "id": "2ce227c8-8dc4-4499-83b7-7bd3692a85c7",
   "metadata": {},
   "outputs": [
    {
     "data": {
      "text/plain": [
       "LogisticRegression(C=10000000.0, max_iter=1000)"
      ]
     },
     "execution_count": 12,
     "metadata": {},
     "output_type": "execute_result"
    }
   ],
   "source": [
    "lm.fit(STLN[cols], np.sign(STLN['return']))"
   ]
  },
  {
   "cell_type": "code",
   "execution_count": 13,
   "id": "22b4c601-e55b-4782-8ecb-46b59af854e1",
   "metadata": {},
   "outputs": [],
   "source": [
    "#the values of prediction"
   ]
  },
  {
   "cell_type": "code",
   "execution_count": 14,
   "id": "104d7657-c24a-4b7a-8c29-ca8bbed80dd9",
   "metadata": {},
   "outputs": [
    {
     "data": {
      "text/html": [
       "<div>\n",
       "<style scoped>\n",
       "    .dataframe tbody tr th:only-of-type {\n",
       "        vertical-align: middle;\n",
       "    }\n",
       "\n",
       "    .dataframe tbody tr th {\n",
       "        vertical-align: top;\n",
       "    }\n",
       "\n",
       "    .dataframe thead th {\n",
       "        text-align: right;\n",
       "    }\n",
       "</style>\n",
       "<table border=\"1\" class=\"dataframe\">\n",
       "  <thead>\n",
       "    <tr style=\"text-align: right;\">\n",
       "      <th></th>\n",
       "      <th>Price</th>\n",
       "      <th>return</th>\n",
       "      <th>lag_1</th>\n",
       "      <th>lag_2</th>\n",
       "      <th>lag_3</th>\n",
       "      <th>lag_4</th>\n",
       "      <th>lag_5</th>\n",
       "      <th>lag_6</th>\n",
       "      <th>lag_7</th>\n",
       "      <th>prediction</th>\n",
       "    </tr>\n",
       "    <tr>\n",
       "      <th>Date</th>\n",
       "      <th></th>\n",
       "      <th></th>\n",
       "      <th></th>\n",
       "      <th></th>\n",
       "      <th></th>\n",
       "      <th></th>\n",
       "      <th></th>\n",
       "      <th></th>\n",
       "      <th></th>\n",
       "      <th></th>\n",
       "    </tr>\n",
       "  </thead>\n",
       "  <tbody>\n",
       "    <tr>\n",
       "      <th>2014-05-16 00:00:00+02:00</th>\n",
       "      <td>2.580400</td>\n",
       "      <td>0.002801</td>\n",
       "      <td>-0.037169</td>\n",
       "      <td>0.020478</td>\n",
       "      <td>-0.029224</td>\n",
       "      <td>-0.008669</td>\n",
       "      <td>0.012024</td>\n",
       "      <td>-0.005362</td>\n",
       "      <td>-0.124298</td>\n",
       "      <td>-1.0</td>\n",
       "    </tr>\n",
       "    <tr>\n",
       "      <th>2014-05-19 00:00:00+02:00</th>\n",
       "      <td>2.614685</td>\n",
       "      <td>0.013199</td>\n",
       "      <td>0.002801</td>\n",
       "      <td>-0.037169</td>\n",
       "      <td>0.020478</td>\n",
       "      <td>-0.029224</td>\n",
       "      <td>-0.008669</td>\n",
       "      <td>0.012024</td>\n",
       "      <td>-0.005362</td>\n",
       "      <td>1.0</td>\n",
       "    </tr>\n",
       "    <tr>\n",
       "      <th>2014-05-20 00:00:00+02:00</th>\n",
       "      <td>2.659797</td>\n",
       "      <td>0.017106</td>\n",
       "      <td>0.013199</td>\n",
       "      <td>0.002801</td>\n",
       "      <td>-0.037169</td>\n",
       "      <td>0.020478</td>\n",
       "      <td>-0.029224</td>\n",
       "      <td>-0.008669</td>\n",
       "      <td>0.012024</td>\n",
       "      <td>1.0</td>\n",
       "    </tr>\n",
       "    <tr>\n",
       "      <th>2014-05-21 00:00:00+02:00</th>\n",
       "      <td>2.670624</td>\n",
       "      <td>0.004062</td>\n",
       "      <td>0.017106</td>\n",
       "      <td>0.013199</td>\n",
       "      <td>0.002801</td>\n",
       "      <td>-0.037169</td>\n",
       "      <td>0.020478</td>\n",
       "      <td>-0.029224</td>\n",
       "      <td>-0.008669</td>\n",
       "      <td>1.0</td>\n",
       "    </tr>\n",
       "    <tr>\n",
       "      <th>2014-05-22 00:00:00+02:00</th>\n",
       "      <td>2.629121</td>\n",
       "      <td>-0.015662</td>\n",
       "      <td>0.004062</td>\n",
       "      <td>0.017106</td>\n",
       "      <td>0.013199</td>\n",
       "      <td>0.002801</td>\n",
       "      <td>-0.037169</td>\n",
       "      <td>0.020478</td>\n",
       "      <td>-0.029224</td>\n",
       "      <td>-1.0</td>\n",
       "    </tr>\n",
       "    <tr>\n",
       "      <th>...</th>\n",
       "      <td>...</td>\n",
       "      <td>...</td>\n",
       "      <td>...</td>\n",
       "      <td>...</td>\n",
       "      <td>...</td>\n",
       "      <td>...</td>\n",
       "      <td>...</td>\n",
       "      <td>...</td>\n",
       "      <td>...</td>\n",
       "      <td>...</td>\n",
       "    </tr>\n",
       "    <tr>\n",
       "      <th>2024-04-29 00:00:00+02:00</th>\n",
       "      <td>23.225000</td>\n",
       "      <td>0.007780</td>\n",
       "      <td>0.006749</td>\n",
       "      <td>-0.016680</td>\n",
       "      <td>-0.001288</td>\n",
       "      <td>0.007321</td>\n",
       "      <td>0.019863</td>\n",
       "      <td>-0.004940</td>\n",
       "      <td>0.003291</td>\n",
       "      <td>1.0</td>\n",
       "    </tr>\n",
       "    <tr>\n",
       "      <th>2024-04-30 00:00:00+02:00</th>\n",
       "      <td>20.879999</td>\n",
       "      <td>-0.106438</td>\n",
       "      <td>0.007780</td>\n",
       "      <td>0.006749</td>\n",
       "      <td>-0.016680</td>\n",
       "      <td>-0.001288</td>\n",
       "      <td>0.007321</td>\n",
       "      <td>0.019863</td>\n",
       "      <td>-0.004940</td>\n",
       "      <td>1.0</td>\n",
       "    </tr>\n",
       "    <tr>\n",
       "      <th>2024-05-02 00:00:00+02:00</th>\n",
       "      <td>19.980000</td>\n",
       "      <td>-0.044060</td>\n",
       "      <td>-0.106438</td>\n",
       "      <td>0.007780</td>\n",
       "      <td>0.006749</td>\n",
       "      <td>-0.016680</td>\n",
       "      <td>-0.001288</td>\n",
       "      <td>0.007321</td>\n",
       "      <td>0.019863</td>\n",
       "      <td>1.0</td>\n",
       "    </tr>\n",
       "    <tr>\n",
       "      <th>2024-05-03 00:00:00+02:00</th>\n",
       "      <td>20.330000</td>\n",
       "      <td>0.017366</td>\n",
       "      <td>-0.044060</td>\n",
       "      <td>-0.106438</td>\n",
       "      <td>0.007780</td>\n",
       "      <td>0.006749</td>\n",
       "      <td>-0.016680</td>\n",
       "      <td>-0.001288</td>\n",
       "      <td>0.007321</td>\n",
       "      <td>1.0</td>\n",
       "    </tr>\n",
       "    <tr>\n",
       "      <th>2024-05-06 00:00:00+02:00</th>\n",
       "      <td>20.219999</td>\n",
       "      <td>-0.005425</td>\n",
       "      <td>0.017366</td>\n",
       "      <td>-0.044060</td>\n",
       "      <td>-0.106438</td>\n",
       "      <td>0.007780</td>\n",
       "      <td>0.006749</td>\n",
       "      <td>-0.016680</td>\n",
       "      <td>-0.001288</td>\n",
       "      <td>1.0</td>\n",
       "    </tr>\n",
       "  </tbody>\n",
       "</table>\n",
       "<p>2536 rows × 10 columns</p>\n",
       "</div>"
      ],
      "text/plain": [
       "                               Price    return     lag_1     lag_2     lag_3  \\\n",
       "Date                                                                           \n",
       "2014-05-16 00:00:00+02:00   2.580400  0.002801 -0.037169  0.020478 -0.029224   \n",
       "2014-05-19 00:00:00+02:00   2.614685  0.013199  0.002801 -0.037169  0.020478   \n",
       "2014-05-20 00:00:00+02:00   2.659797  0.017106  0.013199  0.002801 -0.037169   \n",
       "2014-05-21 00:00:00+02:00   2.670624  0.004062  0.017106  0.013199  0.002801   \n",
       "2014-05-22 00:00:00+02:00   2.629121 -0.015662  0.004062  0.017106  0.013199   \n",
       "...                              ...       ...       ...       ...       ...   \n",
       "2024-04-29 00:00:00+02:00  23.225000  0.007780  0.006749 -0.016680 -0.001288   \n",
       "2024-04-30 00:00:00+02:00  20.879999 -0.106438  0.007780  0.006749 -0.016680   \n",
       "2024-05-02 00:00:00+02:00  19.980000 -0.044060 -0.106438  0.007780  0.006749   \n",
       "2024-05-03 00:00:00+02:00  20.330000  0.017366 -0.044060 -0.106438  0.007780   \n",
       "2024-05-06 00:00:00+02:00  20.219999 -0.005425  0.017366 -0.044060 -0.106438   \n",
       "\n",
       "                              lag_4     lag_5     lag_6     lag_7  prediction  \n",
       "Date                                                                           \n",
       "2014-05-16 00:00:00+02:00 -0.008669  0.012024 -0.005362 -0.124298        -1.0  \n",
       "2014-05-19 00:00:00+02:00 -0.029224 -0.008669  0.012024 -0.005362         1.0  \n",
       "2014-05-20 00:00:00+02:00  0.020478 -0.029224 -0.008669  0.012024         1.0  \n",
       "2014-05-21 00:00:00+02:00 -0.037169  0.020478 -0.029224 -0.008669         1.0  \n",
       "2014-05-22 00:00:00+02:00  0.002801 -0.037169  0.020478 -0.029224        -1.0  \n",
       "...                             ...       ...       ...       ...         ...  \n",
       "2024-04-29 00:00:00+02:00  0.007321  0.019863 -0.004940  0.003291         1.0  \n",
       "2024-04-30 00:00:00+02:00 -0.001288  0.007321  0.019863 -0.004940         1.0  \n",
       "2024-05-02 00:00:00+02:00 -0.016680 -0.001288  0.007321  0.019863         1.0  \n",
       "2024-05-03 00:00:00+02:00  0.006749 -0.016680 -0.001288  0.007321         1.0  \n",
       "2024-05-06 00:00:00+02:00  0.007780  0.006749 -0.016680 -0.001288         1.0  \n",
       "\n",
       "[2536 rows x 10 columns]"
      ]
     },
     "execution_count": 14,
     "metadata": {},
     "output_type": "execute_result"
    }
   ],
   "source": [
    "STLN['prediction'] = lm.predict(STLN[cols])\n",
    "STLN"
   ]
  },
  {
   "cell_type": "code",
   "execution_count": 15,
   "id": "9e865c13-3d89-4323-9bf7-a4202ec6f382",
   "metadata": {},
   "outputs": [],
   "source": [
    "#number of the resulting long and short positions"
   ]
  },
  {
   "cell_type": "code",
   "execution_count": 16,
   "id": "f39e9f06-2390-4345-8bd0-a70b45a29d87",
   "metadata": {},
   "outputs": [
    {
     "data": {
      "text/plain": [
       " 1.0    2224\n",
       "-1.0     312\n",
       "Name: prediction, dtype: int64"
      ]
     },
     "execution_count": 16,
     "metadata": {},
     "output_type": "execute_result"
    }
   ],
   "source": [
    "STLN['prediction'].value_counts()"
   ]
  },
  {
   "cell_type": "code",
   "execution_count": 17,
   "id": "fec809a3-5ab1-4198-8ee7-1f4eb37d7fa3",
   "metadata": {},
   "outputs": [],
   "source": [
    "#the number of correct and wrong predictions"
   ]
  },
  {
   "cell_type": "code",
   "execution_count": 18,
   "id": "bf3f05d7-3d5d-4f23-a349-b85773d0b064",
   "metadata": {},
   "outputs": [
    {
     "data": {
      "text/plain": [
       " 1.0    1328\n",
       "-1.0    1183\n",
       " 0.0      18\n",
       "dtype: int64"
      ]
     },
     "execution_count": 18,
     "metadata": {},
     "output_type": "execute_result"
    }
   ],
   "source": [
    "hits = np.sign(STLN['return'].iloc[lags:]*STLN['prediction'].iloc[lags:]\n",
    "              ).value_counts()\n",
    "hits"
   ]
  },
  {
   "cell_type": "code",
   "execution_count": 19,
   "id": "390b985e-5b0b-4e50-896e-01cfa88480d2",
   "metadata": {},
   "outputs": [],
   "source": [
    "#accuracy of prediction"
   ]
  },
  {
   "cell_type": "code",
   "execution_count": 20,
   "id": "1c56c042-1710-4843-9a60-c9193b32b4e2",
   "metadata": {},
   "outputs": [
    {
     "data": {
      "text/plain": [
       "0.5260252365930599"
      ]
     },
     "execution_count": 20,
     "metadata": {},
     "output_type": "execute_result"
    }
   ],
   "source": [
    "accuracy_score(STLN['prediction'],np.sign(STLN['return']))"
   ]
  },
  {
   "cell_type": "code",
   "execution_count": 21,
   "id": "5ea54a72-ce76-4ce3-9fa9-3c1681eadc2e",
   "metadata": {},
   "outputs": [],
   "source": [
    "STLN['strategy'] = STLN['prediction'] * STLN['return']"
   ]
  },
  {
   "cell_type": "code",
   "execution_count": 22,
   "id": "efbbe0a7-cf02-4fc4-9d3c-af2626fe9143",
   "metadata": {},
   "outputs": [],
   "source": [
    "#The gross performance of the strategy"
   ]
  },
  {
   "cell_type": "code",
   "execution_count": 23,
   "id": "532231a1-d973-439f-a2f6-dc07985d1ee4",
   "metadata": {},
   "outputs": [
    {
     "data": {
      "text/plain": [
       "return       7.857974\n",
       "strategy    21.532874\n",
       "dtype: float64"
      ]
     },
     "execution_count": 23,
     "metadata": {},
     "output_type": "execute_result"
    }
   ],
   "source": [
    "STLN[['return', 'strategy']].sum().apply(np.exp)"
   ]
  },
  {
   "cell_type": "code",
   "execution_count": 24,
   "id": "6b2a537a-4c56-4ad7-9b57-4b8f6337fd32",
   "metadata": {},
   "outputs": [
    {
     "data": {
      "text/plain": [
       "<AxesSubplot:xlabel='Date'>"
      ]
     },
     "execution_count": 24,
     "metadata": {},
     "output_type": "execute_result"
    },
    {
     "data": {
      "image/png": "[encoded data removed]",
      "text/plain": [
       "<Figure size 1000x600 with 1 Axes>"
      ]
     },
     "metadata": {},
     "output_type": "display_data"
    }
   ],
   "source": [
    "STLN[['return', 'strategy']].cumsum().apply(np.exp).plot(figsize=(10, 6))"
   ]
  },
  {
   "cell_type": "code",
   "execution_count": 25,
   "id": "99c7b4e4-54b6-45c8-af70-98aefce6c381",
   "metadata": {},
   "outputs": [
    {
     "data": {
      "text/plain": [
       "return      0.227344\n",
       "strategy    0.356654\n",
       "dtype: float64"
      ]
     },
     "execution_count": 25,
     "metadata": {},
     "output_type": "execute_result"
    }
   ],
   "source": [
    "mean_logrets=np.exp(STLN[['return', 'strategy']].mean() * 252) - 1\n",
    "mean_logrets"
   ]
  },
  {
   "cell_type": "code",
   "execution_count": 26,
   "id": "f605dfbb-13ce-4b2c-871a-42ed0bde6b37",
   "metadata": {},
   "outputs": [
    {
     "data": {
      "text/plain": [
       "return      0.379854\n",
       "strategy    0.381632\n",
       "dtype: float64"
      ]
     },
     "execution_count": 26,
     "metadata": {},
     "output_type": "execute_result"
    }
   ],
   "source": [
    "std_logrets=(STLN[['return', 'strategy']].apply(np.exp) - 1).std() * 252 ** 0.5\n",
    "std_logrets"
   ]
  },
  {
   "cell_type": "code",
   "execution_count": 27,
   "id": "6a39a021-fa07-49c3-8eae-ce6a5aa55a78",
   "metadata": {},
   "outputs": [],
   "source": [
    "STLN['cumret'] = STLN['strategy'].cumsum().apply(np.exp)\n",
    "STLN['cummax'] = STLN['cumret'].cummax()"
   ]
  },
  {
   "cell_type": "code",
   "execution_count": 28,
   "id": "19a8f370-d6a2-435a-9a5b-e1294777e909",
   "metadata": {},
   "outputs": [
    {
     "data": {
      "image/png": "[encoded data removed]",
      "text/plain": [
       "<Figure size 1000x600 with 1 Axes>"
      ]
     },
     "metadata": {},
     "output_type": "display_data"
    }
   ],
   "source": [
    "STLN[['cumret', 'cummax']].dropna().plot(figsize=(10, 6));"
   ]
  },
  {
   "cell_type": "code",
   "execution_count": null,
   "id": "9d48dd5d-a38c-4574-a21e-8a68d6fa399e",
   "metadata": {},
   "outputs": [],
   "source": []
  },
  {
   "cell_type": "code",
   "execution_count": null,
   "id": "20e4b871-b273-4dd8-8148-be70a9142ee8",
   "metadata": {},
   "outputs": [],
   "source": []
  },
  {
   "cell_type": "code",
   "execution_count": null,
   "id": "0e81f124-d75a-400f-8efa-f65d6401b522",
   "metadata": {},
   "outputs": [],
   "source": []
  },
  {
   "cell_type": "code",
   "execution_count": null,
   "id": "719a0d33-318b-454d-ab99-2d4a05123000",
   "metadata": {},
   "outputs": [],
   "source": []
  },
  {
   "cell_type": "code",
   "execution_count": null,
   "id": "c964ac8c-8df7-45c2-b577-4e83421c74d8",
   "metadata": {},
   "outputs": [],
   "source": []
  },
  {
   "cell_type": "code",
   "execution_count": null,
   "id": "5f2e0a52-669e-412a-a5a8-0c1c33e881a4",
   "metadata": {},
   "outputs": [],
   "source": []
  },
  {
   "cell_type": "code",
   "execution_count": null,
   "id": "d06bbc3b-6957-47b0-8095-38876bbe5ee0",
   "metadata": {},
   "outputs": [],
   "source": []
  },
  {
   "cell_type": "code",
   "execution_count": null,
   "id": "d27e7c96-ef52-46c6-a932-b4858945e7f7",
   "metadata": {},
   "outputs": [],
   "source": []
  },
  {
   "cell_type": "code",
   "execution_count": null,
   "id": "9c60b1e8-91bf-44cf-a140-1f054fa9c58f",
   "metadata": {},
   "outputs": [],
   "source": []
  },
  {
   "cell_type": "code",
   "execution_count": null,
   "id": "f5f1824d-9822-40e6-a9f1-0f9feaede248",
   "metadata": {},
   "outputs": [],
   "source": []
  },
  {
   "cell_type": "code",
   "execution_count": null,
   "id": "d21c43b1-ea42-422e-83b8-1e725c18f932",
   "metadata": {},
   "outputs": [],
   "source": []
  },
  {
   "cell_type": "code",
   "execution_count": null,
   "id": "79e4353e-3f8e-4373-97f8-cbdcf4ddab50",
   "metadata": {},
   "outputs": [],
   "source": []
  },
  {
   "cell_type": "code",
   "execution_count": null,
   "id": "cadbafac-19df-4e12-a796-add291cdd3c5",
   "metadata": {},
   "outputs": [],
   "source": []
  },
  {
   "cell_type": "code",
   "execution_count": null,
   "id": "5f1caf4b-9943-4f58-b06c-23ff79c05be3",
   "metadata": {},
   "outputs": [],
   "source": []
  },
  {
   "cell_type": "code",
   "execution_count": null,
   "id": "1deb0c3f-c8db-4d57-b8f6-e29a17202c20",
   "metadata": {},
   "outputs": [],
   "source": []
  },
  {
   "cell_type": "code",
   "execution_count": null,
   "id": "dffb31dd-72ec-41da-b5e7-9936be4b0b4d",
   "metadata": {},
   "outputs": [],
   "source": []
  },
  {
   "cell_type": "code",
   "execution_count": null,
   "id": "9e526315-abd6-404b-b09f-da69c03f28c5",
   "metadata": {},
   "outputs": [],
   "source": []
  }
 ],
 "metadata": {
  "kernelspec": {
   "display_name": "Python 3 (ipykernel)",
   "language": "python",
   "name": "python3"
  },
  "language_info": {
   "codemirror_mode": {
    "name": "ipython",
    "version": 3
   },
   "file_extension": ".py",
   "mimetype": "text/x-python",
   "name": "python",
   "nbconvert_exporter": "python",
   "pygments_lexer": "ipython3",
   "version": "3.9.19"
  },
  "widgets": {
   "application/vnd.jupyter.widget-state+json": {
    "state": {},
    "version_major": 2,
    "version_minor": 0
   }
  }
 },
 "nbformat": 4,
 "nbformat_minor": 5
}
