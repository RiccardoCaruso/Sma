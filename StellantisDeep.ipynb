{
 "cells": [
  {
   "cell_type": "code",
   "execution_count": 1,
   "id": "17e5abbe-d2d1-4797-962b-b8f81d3d5cef",
   "metadata": {},
   "outputs": [
    {
     "name": "stdout",
     "output_type": "stream",
     "text": [
      "Requirement already satisfied: typing-extensions>=4.3.0 in /Users/riccardocaruso08/opt/anaconda3/lib/python3.9/site-packages (4.11.0)\n",
      "Note: you may need to restart the kernel to use updated packages.\n"
     ]
    }
   ],
   "source": [
    "pip install 'typing-extensions>=4.3.0'"
   ]
  },
  {
   "cell_type": "code",
   "execution_count": 2,
   "id": "c65a0810-4f27-4a51-b979-d992d0f3375f",
   "metadata": {},
   "outputs": [
    {
     "name": "stderr",
     "output_type": "stream",
     "text": [
      "2024-04-13 15:59:37.529913: I tensorflow/core/platform/cpu_feature_guard.cc:210] This TensorFlow binary is optimized to use available CPU instructions in performance-critical operations.\n",
      "To enable the following instructions: AVX2 FMA, in other operations, rebuild TensorFlow with the appropriate compiler flags.\n",
      "/Users/riccardocaruso08/opt/anaconda3/lib/python3.9/site-packages/scipy/__init__.py:146: UserWarning: A NumPy version >=1.16.5 and <1.23.0 is required for this version of SciPy (detected version 1.26.4\n",
      "  warnings.warn(f\"A NumPy version >={np_minversion} and <{np_maxversion}\"\n"
     ]
    }
   ],
   "source": [
    "import tensorflow as tf\n",
    "import numpy as np\n",
    "import pandas as pd"
   ]
  },
  {
   "cell_type": "code",
   "execution_count": 3,
   "id": "02584a14-7ee4-4341-903d-71cabb88e368",
   "metadata": {},
   "outputs": [],
   "source": [
    "from keras.models import Sequential\n",
    "from keras.layers import Dense\n",
    "from keras.optimizers import Adam, RMSprop\n",
    "import yfinance as yf"
   ]
  },
  {
   "cell_type": "code",
   "execution_count": 4,
   "id": "ef0f781a-f20d-47ec-bf08-7896afa1e23c",
   "metadata": {},
   "outputs": [],
   "source": [
    "ticker = 'STLAM.MI'\n",
    "stock = yf.Ticker(ticker)\n",
    "hist_data = stock.history(period='10y')"
   ]
  },
  {
   "cell_type": "code",
   "execution_count": 5,
   "id": "d3a1fb05-dc5b-4bc3-b3e8-e7d575040aa9",
   "metadata": {},
   "outputs": [
    {
     "data": {
      "text/html": [
       "<div>\n",
       "<style scoped>\n",
       "    .dataframe tbody tr th:only-of-type {\n",
       "        vertical-align: middle;\n",
       "    }\n",
       "\n",
       "    .dataframe tbody tr th {\n",
       "        vertical-align: top;\n",
       "    }\n",
       "\n",
       "    .dataframe thead th {\n",
       "        text-align: right;\n",
       "    }\n",
       "</style>\n",
       "<table border=\"1\" class=\"dataframe\">\n",
       "  <thead>\n",
       "    <tr style=\"text-align: right;\">\n",
       "      <th></th>\n",
       "      <th>Price</th>\n",
       "    </tr>\n",
       "    <tr>\n",
       "      <th>Date</th>\n",
       "      <th></th>\n",
       "    </tr>\n",
       "  </thead>\n",
       "  <tbody>\n",
       "    <tr>\n",
       "      <th>2014-04-14 00:00:00+02:00</th>\n",
       "      <td>3.354367</td>\n",
       "    </tr>\n",
       "    <tr>\n",
       "      <th>2014-04-15 00:00:00+02:00</th>\n",
       "      <td>3.203999</td>\n",
       "    </tr>\n",
       "    <tr>\n",
       "      <th>2014-04-16 00:00:00+02:00</th>\n",
       "      <td>3.327378</td>\n",
       "    </tr>\n",
       "    <tr>\n",
       "      <th>2014-04-17 00:00:00+02:00</th>\n",
       "      <td>3.377501</td>\n",
       "    </tr>\n",
       "    <tr>\n",
       "      <th>2014-04-22 00:00:00+02:00</th>\n",
       "      <td>3.497024</td>\n",
       "    </tr>\n",
       "    <tr>\n",
       "      <th>...</th>\n",
       "      <td>...</td>\n",
       "    </tr>\n",
       "    <tr>\n",
       "      <th>2024-04-08 00:00:00+02:00</th>\n",
       "      <td>24.895000</td>\n",
       "    </tr>\n",
       "    <tr>\n",
       "      <th>2024-04-09 00:00:00+02:00</th>\n",
       "      <td>25.075001</td>\n",
       "    </tr>\n",
       "    <tr>\n",
       "      <th>2024-04-10 00:00:00+02:00</th>\n",
       "      <td>25.230000</td>\n",
       "    </tr>\n",
       "    <tr>\n",
       "      <th>2024-04-11 00:00:00+02:00</th>\n",
       "      <td>25.209999</td>\n",
       "    </tr>\n",
       "    <tr>\n",
       "      <th>2024-04-12 00:00:00+02:00</th>\n",
       "      <td>24.385000</td>\n",
       "    </tr>\n",
       "  </tbody>\n",
       "</table>\n",
       "<p>2542 rows × 1 columns</p>\n",
       "</div>"
      ],
      "text/plain": [
       "                               Price\n",
       "Date                                \n",
       "2014-04-14 00:00:00+02:00   3.354367\n",
       "2014-04-15 00:00:00+02:00   3.203999\n",
       "2014-04-16 00:00:00+02:00   3.327378\n",
       "2014-04-17 00:00:00+02:00   3.377501\n",
       "2014-04-22 00:00:00+02:00   3.497024\n",
       "...                              ...\n",
       "2024-04-08 00:00:00+02:00  24.895000\n",
       "2024-04-09 00:00:00+02:00  25.075001\n",
       "2024-04-10 00:00:00+02:00  25.230000\n",
       "2024-04-11 00:00:00+02:00  25.209999\n",
       "2024-04-12 00:00:00+02:00  24.385000\n",
       "\n",
       "[2542 rows x 1 columns]"
      ]
     },
     "execution_count": 5,
     "metadata": {},
     "output_type": "execute_result"
    }
   ],
   "source": [
    "STLN=pd.DataFrame(hist_data['Close'])\n",
    "STLN.rename(columns={'Close':'Price'}, inplace=True)\n",
    "STLN"
   ]
  },
  {
   "cell_type": "code",
   "execution_count": 6,
   "id": "b27e2808-5620-4d67-bb53-301ecbcd8a81",
   "metadata": {},
   "outputs": [],
   "source": [
    "STLN['returns'] = np.log(STLN['Price'] / STLN['Price'].shift(1))"
   ]
  },
  {
   "cell_type": "code",
   "execution_count": 7,
   "id": "c883680c-d00b-4129-94d3-9a4f7f01c988",
   "metadata": {},
   "outputs": [],
   "source": [
    "STLN['direction'] = np.where(STLN['returns'] > 0, 1, 0)\n",
    "lags=7"
   ]
  },
  {
   "cell_type": "code",
   "execution_count": 41,
   "id": "0ab51edf-1297-4caa-a601-91f0ef20756b",
   "metadata": {},
   "outputs": [],
   "source": [
    "#log returns shifted by the respective number of lags.\n",
    "# rows indicating the “patterns” emerging in the seven feature"
   ]
  },
  {
   "cell_type": "code",
   "execution_count": 9,
   "id": "2c6c20f6-1b0f-4dee-83cb-ef796bd8b276",
   "metadata": {},
   "outputs": [],
   "source": [
    "cols = []\n",
    "for lag in range(1, lags + 1):\n",
    "    col = f'lag_{lag}'\n",
    "    STLN[col] = STLN['returns'].shift(lag)\n",
    "    cols.append(col)\n",
    "STLN.dropna(inplace=True)"
   ]
  },
  {
   "cell_type": "code",
   "execution_count": 1,
   "id": "39cf921a-d338-41df-9ea5-b938abedd053",
   "metadata": {},
   "outputs": [],
   "source": [
    "#adding feature-> momentum"
   ]
  },
  {
   "cell_type": "code",
   "execution_count": 10,
   "id": "615df1f9-fdc3-472e-b2c7-956e74e1d86e",
   "metadata": {
    "tags": []
   },
   "outputs": [
    {
     "data": {
      "text/html": [
       "<div>\n",
       "<style scoped>\n",
       "    .dataframe tbody tr th:only-of-type {\n",
       "        vertical-align: middle;\n",
       "    }\n",
       "\n",
       "    .dataframe tbody tr th {\n",
       "        vertical-align: top;\n",
       "    }\n",
       "\n",
       "    .dataframe thead th {\n",
       "        text-align: right;\n",
       "    }\n",
       "</style>\n",
       "<table border=\"1\" class=\"dataframe\">\n",
       "  <thead>\n",
       "    <tr style=\"text-align: right;\">\n",
       "      <th></th>\n",
       "      <th>Price</th>\n",
       "      <th>returns</th>\n",
       "      <th>direction</th>\n",
       "      <th>lag_1</th>\n",
       "      <th>lag_2</th>\n",
       "      <th>lag_3</th>\n",
       "      <th>lag_4</th>\n",
       "      <th>lag_5</th>\n",
       "      <th>lag_6</th>\n",
       "      <th>lag_7</th>\n",
       "      <th>momentum</th>\n",
       "    </tr>\n",
       "    <tr>\n",
       "      <th>Date</th>\n",
       "      <th></th>\n",
       "      <th></th>\n",
       "      <th></th>\n",
       "      <th></th>\n",
       "      <th></th>\n",
       "      <th></th>\n",
       "      <th></th>\n",
       "      <th></th>\n",
       "      <th></th>\n",
       "      <th></th>\n",
       "      <th></th>\n",
       "    </tr>\n",
       "  </thead>\n",
       "  <tbody>\n",
       "    <tr>\n",
       "      <th>2014-04-28 00:00:00+02:00</th>\n",
       "      <td>3.283039</td>\n",
       "      <td>0.002940</td>\n",
       "      <td>1</td>\n",
       "      <td>-0.029593</td>\n",
       "      <td>-0.015882</td>\n",
       "      <td>-0.020608</td>\n",
       "      <td>0.034776</td>\n",
       "      <td>0.014952</td>\n",
       "      <td>0.037785</td>\n",
       "      <td>-0.045864</td>\n",
       "      <td>NaN</td>\n",
       "    </tr>\n",
       "    <tr>\n",
       "      <th>2014-04-29 00:00:00+02:00</th>\n",
       "      <td>3.404490</td>\n",
       "      <td>0.036326</td>\n",
       "      <td>1</td>\n",
       "      <td>0.002940</td>\n",
       "      <td>-0.029593</td>\n",
       "      <td>-0.015882</td>\n",
       "      <td>-0.020608</td>\n",
       "      <td>0.034776</td>\n",
       "      <td>0.014952</td>\n",
       "      <td>0.037785</td>\n",
       "      <td>NaN</td>\n",
       "    </tr>\n",
       "    <tr>\n",
       "      <th>2014-04-30 00:00:00+02:00</th>\n",
       "      <td>3.346657</td>\n",
       "      <td>-0.017133</td>\n",
       "      <td>0</td>\n",
       "      <td>0.036326</td>\n",
       "      <td>0.002940</td>\n",
       "      <td>-0.029593</td>\n",
       "      <td>-0.015882</td>\n",
       "      <td>-0.020608</td>\n",
       "      <td>0.034776</td>\n",
       "      <td>0.014952</td>\n",
       "      <td>NaN</td>\n",
       "    </tr>\n",
       "    <tr>\n",
       "      <th>2014-05-02 00:00:00+02:00</th>\n",
       "      <td>3.358223</td>\n",
       "      <td>0.003450</td>\n",
       "      <td>1</td>\n",
       "      <td>-0.017133</td>\n",
       "      <td>0.036326</td>\n",
       "      <td>0.002940</td>\n",
       "      <td>-0.029593</td>\n",
       "      <td>-0.015882</td>\n",
       "      <td>-0.020608</td>\n",
       "      <td>0.034776</td>\n",
       "      <td>NaN</td>\n",
       "    </tr>\n",
       "    <tr>\n",
       "      <th>2014-05-05 00:00:00+02:00</th>\n",
       "      <td>3.304244</td>\n",
       "      <td>-0.016204</td>\n",
       "      <td>0</td>\n",
       "      <td>0.003450</td>\n",
       "      <td>-0.017133</td>\n",
       "      <td>0.036326</td>\n",
       "      <td>0.002940</td>\n",
       "      <td>-0.029593</td>\n",
       "      <td>-0.015882</td>\n",
       "      <td>-0.020608</td>\n",
       "      <td>NaN</td>\n",
       "    </tr>\n",
       "    <tr>\n",
       "      <th>...</th>\n",
       "      <td>...</td>\n",
       "      <td>...</td>\n",
       "      <td>...</td>\n",
       "      <td>...</td>\n",
       "      <td>...</td>\n",
       "      <td>...</td>\n",
       "      <td>...</td>\n",
       "      <td>...</td>\n",
       "      <td>...</td>\n",
       "      <td>...</td>\n",
       "      <td>...</td>\n",
       "    </tr>\n",
       "    <tr>\n",
       "      <th>2024-04-08 00:00:00+02:00</th>\n",
       "      <td>24.895000</td>\n",
       "      <td>0.011921</td>\n",
       "      <td>1</td>\n",
       "      <td>-0.018127</td>\n",
       "      <td>0.001398</td>\n",
       "      <td>-0.018418</td>\n",
       "      <td>-0.033385</td>\n",
       "      <td>-0.012823</td>\n",
       "      <td>0.003943</td>\n",
       "      <td>-0.021402</td>\n",
       "      <td>-0.016271</td>\n",
       "    </tr>\n",
       "    <tr>\n",
       "      <th>2024-04-09 00:00:00+02:00</th>\n",
       "      <td>25.075001</td>\n",
       "      <td>0.007204</td>\n",
       "      <td>1</td>\n",
       "      <td>0.011921</td>\n",
       "      <td>-0.018127</td>\n",
       "      <td>0.001398</td>\n",
       "      <td>-0.018418</td>\n",
       "      <td>-0.033385</td>\n",
       "      <td>-0.012823</td>\n",
       "      <td>0.003943</td>\n",
       "      <td>-0.011322</td>\n",
       "    </tr>\n",
       "    <tr>\n",
       "      <th>2024-04-10 00:00:00+02:00</th>\n",
       "      <td>25.230000</td>\n",
       "      <td>0.006162</td>\n",
       "      <td>1</td>\n",
       "      <td>0.007204</td>\n",
       "      <td>0.011921</td>\n",
       "      <td>-0.018127</td>\n",
       "      <td>0.001398</td>\n",
       "      <td>-0.018418</td>\n",
       "      <td>-0.033385</td>\n",
       "      <td>-0.012823</td>\n",
       "      <td>-0.003204</td>\n",
       "    </tr>\n",
       "    <tr>\n",
       "      <th>2024-04-11 00:00:00+02:00</th>\n",
       "      <td>25.209999</td>\n",
       "      <td>-0.000793</td>\n",
       "      <td>0</td>\n",
       "      <td>0.006162</td>\n",
       "      <td>0.007204</td>\n",
       "      <td>0.011921</td>\n",
       "      <td>-0.018127</td>\n",
       "      <td>0.001398</td>\n",
       "      <td>-0.018418</td>\n",
       "      <td>-0.033385</td>\n",
       "      <td>0.001712</td>\n",
       "    </tr>\n",
       "    <tr>\n",
       "      <th>2024-04-12 00:00:00+02:00</th>\n",
       "      <td>24.385000</td>\n",
       "      <td>-0.033273</td>\n",
       "      <td>0</td>\n",
       "      <td>-0.000793</td>\n",
       "      <td>0.006162</td>\n",
       "      <td>0.007204</td>\n",
       "      <td>0.011921</td>\n",
       "      <td>-0.018127</td>\n",
       "      <td>0.001398</td>\n",
       "      <td>-0.018418</td>\n",
       "      <td>0.001273</td>\n",
       "    </tr>\n",
       "  </tbody>\n",
       "</table>\n",
       "<p>2534 rows × 11 columns</p>\n",
       "</div>"
      ],
      "text/plain": [
       "                               Price   returns  direction     lag_1     lag_2  \\\n",
       "Date                                                                            \n",
       "2014-04-28 00:00:00+02:00   3.283039  0.002940          1 -0.029593 -0.015882   \n",
       "2014-04-29 00:00:00+02:00   3.404490  0.036326          1  0.002940 -0.029593   \n",
       "2014-04-30 00:00:00+02:00   3.346657 -0.017133          0  0.036326  0.002940   \n",
       "2014-05-02 00:00:00+02:00   3.358223  0.003450          1 -0.017133  0.036326   \n",
       "2014-05-05 00:00:00+02:00   3.304244 -0.016204          0  0.003450 -0.017133   \n",
       "...                              ...       ...        ...       ...       ...   \n",
       "2024-04-08 00:00:00+02:00  24.895000  0.011921          1 -0.018127  0.001398   \n",
       "2024-04-09 00:00:00+02:00  25.075001  0.007204          1  0.011921 -0.018127   \n",
       "2024-04-10 00:00:00+02:00  25.230000  0.006162          1  0.007204  0.011921   \n",
       "2024-04-11 00:00:00+02:00  25.209999 -0.000793          0  0.006162  0.007204   \n",
       "2024-04-12 00:00:00+02:00  24.385000 -0.033273          0 -0.000793  0.006162   \n",
       "\n",
       "                              lag_3     lag_4     lag_5     lag_6     lag_7  \\\n",
       "Date                                                                          \n",
       "2014-04-28 00:00:00+02:00 -0.020608  0.034776  0.014952  0.037785 -0.045864   \n",
       "2014-04-29 00:00:00+02:00 -0.015882 -0.020608  0.034776  0.014952  0.037785   \n",
       "2014-04-30 00:00:00+02:00 -0.029593 -0.015882 -0.020608  0.034776  0.014952   \n",
       "2014-05-02 00:00:00+02:00  0.002940 -0.029593 -0.015882 -0.020608  0.034776   \n",
       "2014-05-05 00:00:00+02:00  0.036326  0.002940 -0.029593 -0.015882 -0.020608   \n",
       "...                             ...       ...       ...       ...       ...   \n",
       "2024-04-08 00:00:00+02:00 -0.018418 -0.033385 -0.012823  0.003943 -0.021402   \n",
       "2024-04-09 00:00:00+02:00  0.001398 -0.018418 -0.033385 -0.012823  0.003943   \n",
       "2024-04-10 00:00:00+02:00 -0.018127  0.001398 -0.018418 -0.033385 -0.012823   \n",
       "2024-04-11 00:00:00+02:00  0.011921 -0.018127  0.001398 -0.018418 -0.033385   \n",
       "2024-04-12 00:00:00+02:00  0.007204  0.011921 -0.018127  0.001398 -0.018418   \n",
       "\n",
       "                           momentum  \n",
       "Date                                 \n",
       "2014-04-28 00:00:00+02:00       NaN  \n",
       "2014-04-29 00:00:00+02:00       NaN  \n",
       "2014-04-30 00:00:00+02:00       NaN  \n",
       "2014-05-02 00:00:00+02:00       NaN  \n",
       "2014-05-05 00:00:00+02:00       NaN  \n",
       "...                             ...  \n",
       "2024-04-08 00:00:00+02:00 -0.016271  \n",
       "2024-04-09 00:00:00+02:00 -0.011322  \n",
       "2024-04-10 00:00:00+02:00 -0.003204  \n",
       "2024-04-11 00:00:00+02:00  0.001712  \n",
       "2024-04-12 00:00:00+02:00  0.001273  \n",
       "\n",
       "[2534 rows x 11 columns]"
      ]
     },
     "execution_count": 10,
     "metadata": {},
     "output_type": "execute_result"
    }
   ],
   "source": [
    "STLN['momentum'] = STLN['returns'].rolling(5).mean().shift(1)\n",
    "STLN"
   ]
  },
  {
   "cell_type": "code",
   "execution_count": 11,
   "id": "2bd490fe-3f4a-4c54-bffb-9a190a22263e",
   "metadata": {},
   "outputs": [],
   "source": [
    "import random as rnd\n",
    "from numpy import random "
   ]
  },
  {
   "cell_type": "code",
   "execution_count": 12,
   "id": "4fb5758d-1b14-4f6a-b3c9-92d66f5bd94f",
   "metadata": {},
   "outputs": [],
   "source": [
    "optimizer = Adam(learning_rate=0.0001)"
   ]
  },
  {
   "cell_type": "code",
   "execution_count": 13,
   "id": "ebfbc577-6fd9-4501-8699-e03df09a01bd",
   "metadata": {},
   "outputs": [],
   "source": [
    "def set_seeds(seed=1000):\n",
    "    random.seed(seed)\n",
    "    np.random.seed(seed)\n",
    "    tf.random.set_seed(1000)"
   ]
  },
  {
   "cell_type": "code",
   "execution_count": 14,
   "id": "90c360ec-c922-479d-ad8d-0d15df806d36",
   "metadata": {},
   "outputs": [],
   "source": [
    "#Sequential model is instantiated."
   ]
  },
  {
   "cell_type": "code",
   "execution_count": 15,
   "id": "b598f1d6-185c-4f2f-b02b-f8c68a190d86",
   "metadata": {},
   "outputs": [],
   "source": [
    "set_seeds()\n",
    "model = Sequential()"
   ]
  },
  {
   "cell_type": "code",
   "execution_count": 16,
   "id": "e0888105-c298-4d52-ba51-f78117fa80e5",
   "metadata": {},
   "outputs": [],
   "source": [
    "#The hidden layers and the output layer are defined."
   ]
  },
  {
   "cell_type": "code",
   "execution_count": 17,
   "id": "8f506d25-94c8-4441-91ec-a0da16934723",
   "metadata": {},
   "outputs": [
    {
     "name": "stderr",
     "output_type": "stream",
     "text": [
      "/Users/riccardocaruso08/opt/anaconda3/lib/python3.9/site-packages/keras/src/layers/core/dense.py:86: UserWarning: Do not pass an `input_shape`/`input_dim` argument to a layer. When using Sequential models, prefer using an `Input(shape)` object as the first layer in the model instead.\n",
      "  super().__init__(activity_regularizer=activity_regularizer, **kwargs)\n"
     ]
    }
   ],
   "source": [
    "model.add(Dense(64, activation='relu',\n",
    "       input_shape=(lags,)))\n",
    "model.add(Dense(64, activation='relu'))\n",
    "model.add(Dense(1, activation='sigmoid'))\n",
    "model.compile(optimizer=optimizer,\n",
    "              loss='binary_crossentropy',\n",
    "              metrics=['accuracy'])"
   ]
  },
  {
   "cell_type": "code",
   "execution_count": 18,
   "id": "e6f98eac-d511-464b-a23d-51c9aa511984",
   "metadata": {},
   "outputs": [],
   "source": [
    "cutoff = '2020-12-31'"
   ]
  },
  {
   "cell_type": "code",
   "execution_count": 3,
   "id": "4a538f49-f073-446c-a561-083b4b65eb62",
   "metadata": {},
   "outputs": [],
   "source": [
    "#Defines the cutoff date between the training and test data.\n",
    "#In Sample, anche detto Training Set, e Out of Sample, anche detto Test Set. \n",
    "#permettere di individuare la qualità dei segnali individuati dal modello stabilito"
   ]
  },
  {
   "cell_type": "code",
   "execution_count": 20,
   "id": "e4bc4afe-32fd-4cac-8805-a5eb473dc504",
   "metadata": {},
   "outputs": [],
   "source": [
    "training_data = STLN[STLN.index < cutoff].copy()\n",
    "mu, std = training_data.mean(), training_data.std()"
   ]
  },
  {
   "cell_type": "code",
   "execution_count": 7,
   "id": "6a8541ba-7059-4dc7-8ce6-0f532fea5db5",
   "metadata": {},
   "outputs": [],
   "source": [
    "#Normalizes the features data by Gaussian normalization."
   ]
  },
  {
   "cell_type": "code",
   "execution_count": 21,
   "id": "f5ede087-2bd9-4415-9c1e-e2c1ea55ea1a",
   "metadata": {},
   "outputs": [],
   "source": [
    "training_data_n = (training_data - mu) / std"
   ]
  },
  {
   "cell_type": "code",
   "execution_count": 22,
   "id": "3f86b0a4-1d80-4cfd-b320-c306c0073f65",
   "metadata": {},
   "outputs": [],
   "source": [
    "test_data = STLN[STLN.index >= cutoff].copy()\n",
    "test_data_n = (test_data - mu) / std"
   ]
  },
  {
   "cell_type": "code",
   "execution_count": 23,
   "id": "e789263a-192a-423e-80da-7986b262b6e4",
   "metadata": {},
   "outputs": [
    {
     "name": "stdout",
     "output_type": "stream",
     "text": [
      "CPU times: user 9.09 s, sys: 869 ms, total: 9.96 s\n",
      "Wall time: 8.17 s\n"
     ]
    },
    {
     "data": {
      "text/plain": [
       "<keras.src.callbacks.history.History at 0x7fea19d30100>"
      ]
     },
     "execution_count": 23,
     "metadata": {},
     "output_type": "execute_result"
    }
   ],
   "source": [
    "%%time\n",
    "model.fit(training_data[cols],\n",
    "          training_data['direction'],\n",
    "          epochs=50, verbose=False,\n",
    "          validation_split=0.2, shuffle=False)"
   ]
  },
  {
   "cell_type": "code",
   "execution_count": 24,
   "id": "29322726-0aa1-4a46-ae02-3c928876872e",
   "metadata": {},
   "outputs": [
    {
     "name": "stdout",
     "output_type": "stream",
     "text": [
      "\u001b[1m53/53\u001b[0m \u001b[32m━━━━━━━━━━━━━━━━━━━━\u001b[0m\u001b[37m\u001b[0m \u001b[1m0s\u001b[0m 2ms/step - accuracy: 0.5365 - loss: 0.7218\n"
     ]
    },
    {
     "data": {
      "text/plain": [
       "[0.7214139699935913, 0.5271226167678833]"
      ]
     },
     "execution_count": 24,
     "metadata": {},
     "output_type": "execute_result"
    }
   ],
   "source": [
    "model.evaluate(training_data_n[cols], training_data['direction'])"
   ]
  },
  {
   "cell_type": "code",
   "execution_count": 4,
   "id": "e52798f2-4e3f-4bac-9a0b-73e91f79f370",
   "metadata": {},
   "outputs": [],
   "source": [
    "#Predicts the market direction in-sample."
   ]
  },
  {
   "cell_type": "code",
   "execution_count": 25,
   "id": "7d6aaeb6-ea0e-4fea-97a0-288f3b6b3803",
   "metadata": {},
   "outputs": [
    {
     "name": "stdout",
     "output_type": "stream",
     "text": [
      "\u001b[1m53/53\u001b[0m \u001b[32m━━━━━━━━━━━━━━━━━━━━\u001b[0m\u001b[37m\u001b[0m \u001b[1m0s\u001b[0m 2ms/step\n"
     ]
    }
   ],
   "source": [
    " pred = np.where(model.predict(training_data_n[cols]) > 0.5, 1, 0)"
   ]
  },
  {
   "cell_type": "code",
   "execution_count": 26,
   "id": "31f5d640-d36c-419c-9354-c8e585412000",
   "metadata": {},
   "outputs": [
    {
     "data": {
      "text/plain": [
       "array([1, 1, 1, 1, 1, 0, 1, 1, 1, 0, 1, 1, 0, 1, 1, 0, 1, 1, 1, 1, 1, 1,\n",
       "       1, 1, 1, 1, 1, 1, 0, 1])"
      ]
     },
     "execution_count": 26,
     "metadata": {},
     "output_type": "execute_result"
    }
   ],
   "source": [
    "pred[:30].flatten()"
   ]
  },
  {
   "cell_type": "code",
   "execution_count": 1,
   "id": "ca98576f-4d0e-4e7a-8aea-2aa97bf06317",
   "metadata": {},
   "outputs": [],
   "source": [
    "#Transforms the predictions into long-short positions"
   ]
  },
  {
   "cell_type": "code",
   "execution_count": 27,
   "id": "fde0b4b1-6097-4b46-81d4-57b9b842b429",
   "metadata": {},
   "outputs": [],
   "source": [
    "training_data['prediction'] = np.where(pred > 0, 1, -1)"
   ]
  },
  {
   "cell_type": "code",
   "execution_count": 6,
   "id": "f9f27204-1ac8-45bb-acd2-c578b32e1de1",
   "metadata": {},
   "outputs": [],
   "source": [
    "#Calculates the strategy returns given the positions."
   ]
  },
  {
   "cell_type": "code",
   "execution_count": 28,
   "id": "3ff29bd8-d87d-4489-b0ec-02df40ef1332",
   "metadata": {},
   "outputs": [
    {
     "data": {
      "text/plain": [
       "returns     3.041264\n",
       "strategy    4.550093\n",
       "dtype: float64"
      ]
     },
     "execution_count": 28,
     "metadata": {},
     "output_type": "execute_result"
    }
   ],
   "source": [
    "training_data['strategy'] = (training_data['prediction'] * training_data['returns'])\n",
    "training_data[['returns', 'strategy']].sum().apply(np.exp)"
   ]
  },
  {
   "cell_type": "code",
   "execution_count": 29,
   "id": "7e9e61a8-fe50-4c15-adaf-c9fbfbc33e36",
   "metadata": {},
   "outputs": [
    {
     "data": {
      "image/png": "[encoded data removed]",
      "text/plain": [
       "<Figure size 864x576 with 1 Axes>"
      ]
     },
     "metadata": {
      "needs_background": "light"
     },
     "output_type": "display_data"
    }
   ],
   "source": [
    "training_data[['returns', 'strategy']].cumsum().apply(np.exp).plot(figsize=(12, 8));"
   ]
  },
  {
   "cell_type": "code",
   "execution_count": 30,
   "id": "e41b46ad-619e-4d5c-9dc0-fd6f6d2c25ce",
   "metadata": {},
   "outputs": [
    {
     "name": "stdout",
     "output_type": "stream",
     "text": [
      "\u001b[1m27/27\u001b[0m \u001b[32m━━━━━━━━━━━━━━━━━━━━\u001b[0m\u001b[37m\u001b[0m \u001b[1m0s\u001b[0m 2ms/step - accuracy: 0.5323 - loss: 0.7352\n"
     ]
    },
    {
     "data": {
      "text/plain": [
       "[0.7281639575958252, 0.5322195887565613]"
      ]
     },
     "execution_count": 30,
     "metadata": {},
     "output_type": "execute_result"
    }
   ],
   "source": [
    "model.evaluate(test_data_n[cols], test_data['direction'])"
   ]
  },
  {
   "cell_type": "code",
   "execution_count": 31,
   "id": "c497ebfe-deba-45e5-8720-74229e2429bd",
   "metadata": {},
   "outputs": [
    {
     "name": "stdout",
     "output_type": "stream",
     "text": [
      "\u001b[1m27/27\u001b[0m \u001b[32m━━━━━━━━━━━━━━━━━━━━\u001b[0m\u001b[37m\u001b[0m \u001b[1m0s\u001b[0m 5ms/step\n"
     ]
    }
   ],
   "source": [
    "pred = np.where(model.predict(test_data_n[cols]) > 0.5, 1, 0)"
   ]
  },
  {
   "cell_type": "code",
   "execution_count": 32,
   "id": "fbf35690-a358-4d3d-9aee-4c5f72809acd",
   "metadata": {},
   "outputs": [],
   "source": [
    "test_data['prediction'] = np.where(pred > 0, 1, -1)"
   ]
  },
  {
   "cell_type": "code",
   "execution_count": 33,
   "id": "c4e79969-a665-4c41-b341-661a5374b829",
   "metadata": {},
   "outputs": [
    {
     "data": {
      "text/plain": [
       " 1    783\n",
       "-1     55\n",
       "Name: prediction, dtype: int64"
      ]
     },
     "execution_count": 33,
     "metadata": {},
     "output_type": "execute_result"
    }
   ],
   "source": [
    "test_data['prediction'].value_counts()"
   ]
  },
  {
   "cell_type": "code",
   "execution_count": 34,
   "id": "891f7bba-52e8-4bd5-babb-98c3ec872c7c",
   "metadata": {},
   "outputs": [],
   "source": [
    "test_data['strategy'] = (test_data['prediction'] * test_data['returns'])"
   ]
  },
  {
   "cell_type": "code",
   "execution_count": 35,
   "id": "76216a76-8ac7-4c54-8205-6dc615addaad",
   "metadata": {},
   "outputs": [
    {
     "data": {
      "text/plain": [
       "returns     2.449456\n",
       "strategy    2.751285\n",
       "dtype: float64"
      ]
     },
     "execution_count": 35,
     "metadata": {},
     "output_type": "execute_result"
    }
   ],
   "source": [
    "test_data[['returns', 'strategy']].sum().apply(np.exp)"
   ]
  },
  {
   "cell_type": "code",
   "execution_count": 36,
   "id": "3e40d03e-648b-4bde-8fd7-c2eef68c9779",
   "metadata": {},
   "outputs": [
    {
     "data": {
      "text/plain": [
       "<AxesSubplot:xlabel='Date'>"
      ]
     },
     "execution_count": 36,
     "metadata": {},
     "output_type": "execute_result"
    },
    {
     "data": {
      "image/png": "[encoded data removed]",
      "text/plain": [
       "<Figure size 720x432 with 1 Axes>"
      ]
     },
     "metadata": {
      "needs_background": "light"
     },
     "output_type": "display_data"
    }
   ],
   "source": [
    "test_data[['returns', 'strategy']].cumsum().apply(np.exp).plot(figsize=(10, 6))"
   ]
  },
  {
   "cell_type": "code",
   "execution_count": 37,
   "id": "d67148ba-0791-407c-9590-68c526c7ce68",
   "metadata": {},
   "outputs": [],
   "source": [
    "#Gross performance of Stellantis compared to the Deep learning strategy"
   ]
  },
  {
   "cell_type": "code",
   "execution_count": 39,
   "id": "e2e81af3-78d8-4492-b33c-a5257248d406",
   "metadata": {},
   "outputs": [
    {
     "data": {
      "text/plain": [
       "returns     0.309180\n",
       "strategy    0.355737\n",
       "dtype: float64"
      ]
     },
     "execution_count": 39,
     "metadata": {},
     "output_type": "execute_result"
    }
   ],
   "source": [
    "mean_logrets=np.exp(test_data[['returns', 'strategy']].mean() * 252) - 1\n",
    "mean_logrets"
   ]
  },
  {
   "cell_type": "code",
   "execution_count": 40,
   "id": "3daafe74-fc2a-4772-bc53-6b238eb61079",
   "metadata": {},
   "outputs": [
    {
     "data": {
      "text/plain": [
       "returns     0.323313\n",
       "strategy    0.323947\n",
       "dtype: float64"
      ]
     },
     "execution_count": 40,
     "metadata": {},
     "output_type": "execute_result"
    }
   ],
   "source": [
    "std_logrets=(test_data[['returns', 'strategy']].apply(np.exp) - 1).std() * 252 ** 0.5\n",
    "std_logrets"
   ]
  },
  {
   "cell_type": "code",
   "execution_count": null,
   "id": "c28e2505-9720-4feb-8e62-f6710a839375",
   "metadata": {},
   "outputs": [],
   "source": []
  },
  {
   "cell_type": "code",
   "execution_count": null,
   "id": "64b8afef-1887-481a-ab7e-8a25cf537c6f",
   "metadata": {},
   "outputs": [],
   "source": []
  },
  {
   "cell_type": "code",
   "execution_count": null,
   "id": "87979753-b26e-446a-8938-e9a9787f410f",
   "metadata": {},
   "outputs": [],
   "source": []
  },
  {
   "cell_type": "code",
   "execution_count": null,
   "id": "7781f446-56bb-45c9-9811-c87bbc21ece7",
   "metadata": {},
   "outputs": [],
   "source": []
  },
  {
   "cell_type": "code",
   "execution_count": null,
   "id": "46362bc0-9608-4958-88a4-6533a472d9dc",
   "metadata": {},
   "outputs": [],
   "source": []
  },
  {
   "cell_type": "code",
   "execution_count": null,
   "id": "aefc623c-1fdc-4db0-8b99-70386b3bdca5",
   "metadata": {},
   "outputs": [],
   "source": []
  }
 ],
 "metadata": {
  "kernelspec": {
   "display_name": "Python 3 (ipykernel)",
   "language": "python",
   "name": "python3"
  },
  "language_info": {
   "codemirror_mode": {
    "name": "ipython",
    "version": 3
   },
   "file_extension": ".py",
   "mimetype": "text/x-python",
   "name": "python",
   "nbconvert_exporter": "python",
   "pygments_lexer": "ipython3",
   "version": "3.9.19"
  },
  "widgets": {
   "application/vnd.jupyter.widget-state+json": {
    "state": {},
    "version_major": 2,
    "version_minor": 0
   }
  }
 },
 "nbformat": 4,
 "nbformat_minor": 5
}
